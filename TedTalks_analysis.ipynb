{
 "cells": [
  {
   "cell_type": "markdown",
   "id": "e33b9552",
   "metadata": {},
   "source": [
    "## importing Libraries"
   ]
  },
  {
   "cell_type": "code",
   "execution_count": 19,
   "id": "c5b2104b",
   "metadata": {},
   "outputs": [],
   "source": [
    "import numpy as np \n",
    "import pandas as pd\n",
    "import matplotlib.pyplot as plt\n",
    "import seaborn as sns"
   ]
  },
  {
   "cell_type": "markdown",
   "id": "84eef069",
   "metadata": {},
   "source": [
    "## ploting style"
   ]
  },
  {
   "cell_type": "code",
   "execution_count": 21,
   "id": "7f58f8ed",
   "metadata": {},
   "outputs": [],
   "source": [
    "sns.set_style(\"whitegrid\")\n",
    "sns.set_palette(\"muted\")\n",
    "plt.style.use(\"fivethirtyeight\")"
   ]
  },
  {
   "cell_type": "markdown",
   "id": "c05bb923",
   "metadata": {},
   "source": [
    "## ignoring the warnings"
   ]
  },
  {
   "cell_type": "code",
   "execution_count": 22,
   "id": "e957d032",
   "metadata": {},
   "outputs": [],
   "source": [
    "import warnings\n",
    "warnings.filterwarnings('ignore',category = DeprecationWarning)\n",
    "warnings.filterwarnings('ignore',category = UserWarning)\n",
    "warnings.filterwarnings('ignore',category = RuntimeWarning)\n",
    "warnings.filterwarnings('ignore',category = FutureWarning)"
   ]
  },
  {
   "cell_type": "markdown",
   "id": "847ea63d",
   "metadata": {},
   "source": [
    "\n",
    "# setting the no of showing Rows and Columns"
   ]
  },
  {
   "cell_type": "code",
   "execution_count": 24,
   "id": "5cb3ed5a",
   "metadata": {},
   "outputs": [],
   "source": [
    "pd.set_option('display.max_rows',100000)\n",
    "pd.set_option('display.max_columns',1000)"
   ]
  },
  {
   "cell_type": "markdown",
   "id": "381157fa",
   "metadata": {},
   "source": [
    "## Reading the data and Printing top 5 Rows"
   ]
  },
  {
   "cell_type": "code",
   "execution_count": 15,
   "id": "44fbc6e0",
   "metadata": {
    "scrolled": true
   },
   "outputs": [
    {
     "data": {
      "text/html": [
       "<div>\n",
       "<style scoped>\n",
       "    .dataframe tbody tr th:only-of-type {\n",
       "        vertical-align: middle;\n",
       "    }\n",
       "\n",
       "    .dataframe tbody tr th {\n",
       "        vertical-align: top;\n",
       "    }\n",
       "\n",
       "    .dataframe thead th {\n",
       "        text-align: right;\n",
       "    }\n",
       "</style>\n",
       "<table border=\"1\" class=\"dataframe\">\n",
       "  <thead>\n",
       "    <tr style=\"text-align: right;\">\n",
       "      <th></th>\n",
       "      <th>name</th>\n",
       "      <th>title</th>\n",
       "      <th>description</th>\n",
       "      <th>main_speaker</th>\n",
       "      <th>speaker_occupation</th>\n",
       "      <th>num_speaker</th>\n",
       "      <th>duration</th>\n",
       "      <th>event</th>\n",
       "      <th>film_date</th>\n",
       "      <th>published_date</th>\n",
       "      <th>comments</th>\n",
       "      <th>tags</th>\n",
       "      <th>languages</th>\n",
       "      <th>ratings</th>\n",
       "      <th>related_talks</th>\n",
       "      <th>url</th>\n",
       "      <th>views</th>\n",
       "    </tr>\n",
       "  </thead>\n",
       "  <tbody>\n",
       "    <tr>\n",
       "      <th>0</th>\n",
       "      <td>Ken Robinson: Do schools kill creativity?</td>\n",
       "      <td>Do schools kill creativity?</td>\n",
       "      <td>Sir Ken Robinson makes an entertaining and pro...</td>\n",
       "      <td>Ken Robinson</td>\n",
       "      <td>Author/educator</td>\n",
       "      <td>1</td>\n",
       "      <td>19.400000</td>\n",
       "      <td>TED2006</td>\n",
       "      <td>25-02-2006</td>\n",
       "      <td>27-06-2006</td>\n",
       "      <td>4553</td>\n",
       "      <td>['children', 'creativity', 'culture', 'dance',...</td>\n",
       "      <td>60</td>\n",
       "      <td>[{'id': 7, 'name': 'Funny', 'count': 19645}, {...</td>\n",
       "      <td>[{'id': 865, 'hero': 'https://pe.tedcdn.com/im...</td>\n",
       "      <td>https://www.ted.com/talks/ken_robinson_says_sc...</td>\n",
       "      <td>47227110</td>\n",
       "    </tr>\n",
       "    <tr>\n",
       "      <th>1</th>\n",
       "      <td>Amy Cuddy: Your body language may shape who yo...</td>\n",
       "      <td>Your body language may shape who you are</td>\n",
       "      <td>Body language affects how others see us, but i...</td>\n",
       "      <td>Amy Cuddy</td>\n",
       "      <td>Social psychologist</td>\n",
       "      <td>1</td>\n",
       "      <td>21.033333</td>\n",
       "      <td>TEDGlobal 2012</td>\n",
       "      <td>26-06-2012</td>\n",
       "      <td>1/10/12</td>\n",
       "      <td>2290</td>\n",
       "      <td>['body language', 'brain', 'business', 'psycho...</td>\n",
       "      <td>51</td>\n",
       "      <td>[{'id': 23, 'name': 'Jaw-dropping', 'count': 3...</td>\n",
       "      <td>[{'id': 605, 'hero': 'https://pe.tedcdn.com/im...</td>\n",
       "      <td>https://www.ted.com/talks/amy_cuddy_your_body_...</td>\n",
       "      <td>43155405</td>\n",
       "    </tr>\n",
       "    <tr>\n",
       "      <th>2</th>\n",
       "      <td>Simon Sinek: How great leaders inspire action</td>\n",
       "      <td>How great leaders inspire action</td>\n",
       "      <td>Simon Sinek has a simple but powerful model fo...</td>\n",
       "      <td>Simon Sinek</td>\n",
       "      <td>Leadership expert</td>\n",
       "      <td>1</td>\n",
       "      <td>18.066667</td>\n",
       "      <td>TEDxPuget Sound</td>\n",
       "      <td>17-09-2009</td>\n",
       "      <td>4/5/10</td>\n",
       "      <td>1930</td>\n",
       "      <td>['TEDx', 'business', 'entrepreneur', 'leadersh...</td>\n",
       "      <td>45</td>\n",
       "      <td>[{'id': 21, 'name': 'Unconvincing', 'count': 9...</td>\n",
       "      <td>[{'id': 814, 'hero': 'https://pe.tedcdn.com/im...</td>\n",
       "      <td>https://www.ted.com/talks/simon_sinek_how_grea...</td>\n",
       "      <td>34309432</td>\n",
       "    </tr>\n",
       "    <tr>\n",
       "      <th>3</th>\n",
       "      <td>Brené Brown: The power of vulnerability</td>\n",
       "      <td>The power of vulnerability</td>\n",
       "      <td>Brené Brown studies human connection -- our ab...</td>\n",
       "      <td>Brené Brown</td>\n",
       "      <td>Vulnerability researcher</td>\n",
       "      <td>1</td>\n",
       "      <td>20.316667</td>\n",
       "      <td>TEDxHouston</td>\n",
       "      <td>6/6/10</td>\n",
       "      <td>23-12-2010</td>\n",
       "      <td>1927</td>\n",
       "      <td>['TEDx', 'communication', 'culture', 'depressi...</td>\n",
       "      <td>52</td>\n",
       "      <td>[{'id': 10, 'name': 'Inspiring', 'count': 2144...</td>\n",
       "      <td>[{'id': 1391, 'hero': 'https://pe.tedcdn.com/i...</td>\n",
       "      <td>https://www.ted.com/talks/brene_brown_on_vulne...</td>\n",
       "      <td>31168150</td>\n",
       "    </tr>\n",
       "    <tr>\n",
       "      <th>4</th>\n",
       "      <td>Mary Roach: 10 things you didn't know about or...</td>\n",
       "      <td>10 things you didn't know about orgasm</td>\n",
       "      <td>\"Bonk\" author Mary Roach delves into obscure s...</td>\n",
       "      <td>Mary Roach</td>\n",
       "      <td>Writer</td>\n",
       "      <td>1</td>\n",
       "      <td>16.716667</td>\n",
       "      <td>TED2009</td>\n",
       "      <td>6/2/09</td>\n",
       "      <td>20-05-2009</td>\n",
       "      <td>354</td>\n",
       "      <td>['books', 'culture', 'history', 'humor', 'scie...</td>\n",
       "      <td>37</td>\n",
       "      <td>[{'id': 23, 'name': 'Jaw-dropping', 'count': 3...</td>\n",
       "      <td>[{'id': 16, 'hero': 'https://pe.tedcdn.com/ima...</td>\n",
       "      <td>https://www.ted.com/talks/mary_roach_10_things...</td>\n",
       "      <td>22270883</td>\n",
       "    </tr>\n",
       "  </tbody>\n",
       "</table>\n",
       "</div>"
      ],
      "text/plain": [
       "                                                name  \\\n",
       "0          Ken Robinson: Do schools kill creativity?   \n",
       "1  Amy Cuddy: Your body language may shape who yo...   \n",
       "2      Simon Sinek: How great leaders inspire action   \n",
       "3            Brené Brown: The power of vulnerability   \n",
       "4  Mary Roach: 10 things you didn't know about or...   \n",
       "\n",
       "                                      title  \\\n",
       "0               Do schools kill creativity?   \n",
       "1  Your body language may shape who you are   \n",
       "2          How great leaders inspire action   \n",
       "3                The power of vulnerability   \n",
       "4    10 things you didn't know about orgasm   \n",
       "\n",
       "                                         description  main_speaker  \\\n",
       "0  Sir Ken Robinson makes an entertaining and pro...  Ken Robinson   \n",
       "1  Body language affects how others see us, but i...     Amy Cuddy   \n",
       "2  Simon Sinek has a simple but powerful model fo...   Simon Sinek   \n",
       "3  Brené Brown studies human connection -- our ab...   Brené Brown   \n",
       "4  \"Bonk\" author Mary Roach delves into obscure s...    Mary Roach   \n",
       "\n",
       "         speaker_occupation  num_speaker   duration             event  \\\n",
       "0           Author/educator            1  19.400000           TED2006   \n",
       "1       Social psychologist            1  21.033333    TEDGlobal 2012   \n",
       "2         Leadership expert            1  18.066667  TEDxPuget Sound    \n",
       "3  Vulnerability researcher            1  20.316667       TEDxHouston   \n",
       "4                    Writer            1  16.716667           TED2009   \n",
       "\n",
       "    film_date published_date  comments  \\\n",
       "0  25-02-2006     27-06-2006      4553   \n",
       "1  26-06-2012        1/10/12      2290   \n",
       "2  17-09-2009         4/5/10      1930   \n",
       "3      6/6/10     23-12-2010      1927   \n",
       "4      6/2/09     20-05-2009       354   \n",
       "\n",
       "                                                tags  languages  \\\n",
       "0  ['children', 'creativity', 'culture', 'dance',...         60   \n",
       "1  ['body language', 'brain', 'business', 'psycho...         51   \n",
       "2  ['TEDx', 'business', 'entrepreneur', 'leadersh...         45   \n",
       "3  ['TEDx', 'communication', 'culture', 'depressi...         52   \n",
       "4  ['books', 'culture', 'history', 'humor', 'scie...         37   \n",
       "\n",
       "                                             ratings  \\\n",
       "0  [{'id': 7, 'name': 'Funny', 'count': 19645}, {...   \n",
       "1  [{'id': 23, 'name': 'Jaw-dropping', 'count': 3...   \n",
       "2  [{'id': 21, 'name': 'Unconvincing', 'count': 9...   \n",
       "3  [{'id': 10, 'name': 'Inspiring', 'count': 2144...   \n",
       "4  [{'id': 23, 'name': 'Jaw-dropping', 'count': 3...   \n",
       "\n",
       "                                       related_talks  \\\n",
       "0  [{'id': 865, 'hero': 'https://pe.tedcdn.com/im...   \n",
       "1  [{'id': 605, 'hero': 'https://pe.tedcdn.com/im...   \n",
       "2  [{'id': 814, 'hero': 'https://pe.tedcdn.com/im...   \n",
       "3  [{'id': 1391, 'hero': 'https://pe.tedcdn.com/i...   \n",
       "4  [{'id': 16, 'hero': 'https://pe.tedcdn.com/ima...   \n",
       "\n",
       "                                                 url     views  \n",
       "0  https://www.ted.com/talks/ken_robinson_says_sc...  47227110  \n",
       "1  https://www.ted.com/talks/amy_cuddy_your_body_...  43155405  \n",
       "2  https://www.ted.com/talks/simon_sinek_how_grea...  34309432  \n",
       "3  https://www.ted.com/talks/brene_brown_on_vulne...  31168150  \n",
       "4  https://www.ted.com/talks/mary_roach_10_things...  22270883  "
      ]
     },
     "execution_count": 15,
     "metadata": {},
     "output_type": "execute_result"
    }
   ],
   "source": [
    "df=pd.read_csv('TED analysis.csv')\n",
    "df.head()"
   ]
  },
  {
   "cell_type": "markdown",
   "id": "6d61c82d",
   "metadata": {},
   "source": [
    "## Top 15 most Viewed Talks"
   ]
  },
  {
   "cell_type": "code",
   "execution_count": 25,
   "id": "5f57a5a8",
   "metadata": {
    "scrolled": true
   },
   "outputs": [
    {
     "data": {
      "text/html": [
       "<div>\n",
       "<style scoped>\n",
       "    .dataframe tbody tr th:only-of-type {\n",
       "        vertical-align: middle;\n",
       "    }\n",
       "\n",
       "    .dataframe tbody tr th {\n",
       "        vertical-align: top;\n",
       "    }\n",
       "\n",
       "    .dataframe thead th {\n",
       "        text-align: right;\n",
       "    }\n",
       "</style>\n",
       "<table border=\"1\" class=\"dataframe\">\n",
       "  <thead>\n",
       "    <tr style=\"text-align: right;\">\n",
       "      <th></th>\n",
       "      <th>title</th>\n",
       "      <th>main_speaker</th>\n",
       "      <th>views</th>\n",
       "      <th>film_date</th>\n",
       "    </tr>\n",
       "  </thead>\n",
       "  <tbody>\n",
       "    <tr>\n",
       "      <th>0</th>\n",
       "      <td>Do schools kill creativity?</td>\n",
       "      <td>Ken Robinson</td>\n",
       "      <td>47227110</td>\n",
       "      <td>25-02-2006</td>\n",
       "    </tr>\n",
       "    <tr>\n",
       "      <th>1</th>\n",
       "      <td>Your body language may shape who you are</td>\n",
       "      <td>Amy Cuddy</td>\n",
       "      <td>43155405</td>\n",
       "      <td>26-06-2012</td>\n",
       "    </tr>\n",
       "    <tr>\n",
       "      <th>2</th>\n",
       "      <td>How great leaders inspire action</td>\n",
       "      <td>Simon Sinek</td>\n",
       "      <td>34309432</td>\n",
       "      <td>17-09-2009</td>\n",
       "    </tr>\n",
       "    <tr>\n",
       "      <th>3</th>\n",
       "      <td>The power of vulnerability</td>\n",
       "      <td>Brené Brown</td>\n",
       "      <td>31168150</td>\n",
       "      <td>6/6/10</td>\n",
       "    </tr>\n",
       "    <tr>\n",
       "      <th>4</th>\n",
       "      <td>10 things you didn't know about orgasm</td>\n",
       "      <td>Mary Roach</td>\n",
       "      <td>22270883</td>\n",
       "      <td>6/2/09</td>\n",
       "    </tr>\n",
       "    <tr>\n",
       "      <th>5</th>\n",
       "      <td>How to speak so that people want to listen</td>\n",
       "      <td>Julian Treasure</td>\n",
       "      <td>21594632</td>\n",
       "      <td>10/6/13</td>\n",
       "    </tr>\n",
       "    <tr>\n",
       "      <th>6</th>\n",
       "      <td>My stroke of insight</td>\n",
       "      <td>Jill Bolte Taylor</td>\n",
       "      <td>21190883</td>\n",
       "      <td>27-02-2008</td>\n",
       "    </tr>\n",
       "    <tr>\n",
       "      <th>7</th>\n",
       "      <td>Why we do what we do</td>\n",
       "      <td>Tony Robbins</td>\n",
       "      <td>20685401</td>\n",
       "      <td>2/2/06</td>\n",
       "    </tr>\n",
       "    <tr>\n",
       "      <th>8</th>\n",
       "      <td>This is what happens when you reply to spam email</td>\n",
       "      <td>James Veitch</td>\n",
       "      <td>20475972</td>\n",
       "      <td>8/12/15</td>\n",
       "    </tr>\n",
       "    <tr>\n",
       "      <th>9</th>\n",
       "      <td>Looks aren't everything. Believe me, I'm a model.</td>\n",
       "      <td>Cameron Russell</td>\n",
       "      <td>19787465</td>\n",
       "      <td>27-10-2012</td>\n",
       "    </tr>\n",
       "    <tr>\n",
       "      <th>10</th>\n",
       "      <td>The puzzle of motivation</td>\n",
       "      <td>Dan Pink</td>\n",
       "      <td>18830983</td>\n",
       "      <td>24-07-2009</td>\n",
       "    </tr>\n",
       "    <tr>\n",
       "      <th>11</th>\n",
       "      <td>The power of introverts</td>\n",
       "      <td>Susan Cain</td>\n",
       "      <td>17629275</td>\n",
       "      <td>28-02-2012</td>\n",
       "    </tr>\n",
       "    <tr>\n",
       "      <th>12</th>\n",
       "      <td>How to spot a liar</td>\n",
       "      <td>Pamela Meyer</td>\n",
       "      <td>16861578</td>\n",
       "      <td>13-07-2011</td>\n",
       "    </tr>\n",
       "    <tr>\n",
       "      <th>13</th>\n",
       "      <td>What makes a good life? Lessons from the longe...</td>\n",
       "      <td>Robert Waldinger</td>\n",
       "      <td>16601927</td>\n",
       "      <td>14-11-2015</td>\n",
       "    </tr>\n",
       "    <tr>\n",
       "      <th>14</th>\n",
       "      <td>The happy secret to better work</td>\n",
       "      <td>Shawn Achor</td>\n",
       "      <td>16209727</td>\n",
       "      <td>11/5/11</td>\n",
       "    </tr>\n",
       "  </tbody>\n",
       "</table>\n",
       "</div>"
      ],
      "text/plain": [
       "                                                title       main_speaker  \\\n",
       "0                         Do schools kill creativity?       Ken Robinson   \n",
       "1            Your body language may shape who you are          Amy Cuddy   \n",
       "2                    How great leaders inspire action        Simon Sinek   \n",
       "3                          The power of vulnerability        Brené Brown   \n",
       "4              10 things you didn't know about orgasm         Mary Roach   \n",
       "5          How to speak so that people want to listen    Julian Treasure   \n",
       "6                                My stroke of insight  Jill Bolte Taylor   \n",
       "7                                Why we do what we do       Tony Robbins   \n",
       "8   This is what happens when you reply to spam email       James Veitch   \n",
       "9   Looks aren't everything. Believe me, I'm a model.    Cameron Russell   \n",
       "10                           The puzzle of motivation           Dan Pink   \n",
       "11                            The power of introverts         Susan Cain   \n",
       "12                                 How to spot a liar       Pamela Meyer   \n",
       "13  What makes a good life? Lessons from the longe...   Robert Waldinger   \n",
       "14                    The happy secret to better work        Shawn Achor   \n",
       "\n",
       "       views   film_date  \n",
       "0   47227110  25-02-2006  \n",
       "1   43155405  26-06-2012  \n",
       "2   34309432  17-09-2009  \n",
       "3   31168150      6/6/10  \n",
       "4   22270883      6/2/09  \n",
       "5   21594632     10/6/13  \n",
       "6   21190883  27-02-2008  \n",
       "7   20685401      2/2/06  \n",
       "8   20475972     8/12/15  \n",
       "9   19787465  27-10-2012  \n",
       "10  18830983  24-07-2009  \n",
       "11  17629275  28-02-2012  \n",
       "12  16861578  13-07-2011  \n",
       "13  16601927  14-11-2015  \n",
       "14  16209727     11/5/11  "
      ]
     },
     "execution_count": 25,
     "metadata": {},
     "output_type": "execute_result"
    }
   ],
   "source": [
    "top15_talks = df[['title','main_speaker','views','film_date']].sort_values(by='views',ascending=False).head(15)\n",
    "\n",
    "top15_talks"
   ]
  },
  {
   "cell_type": "markdown",
   "id": "a4b546f3",
   "metadata": {},
   "source": [
    "# Observations:\n",
    "## 1)Ken Robinson's talk on Do Schools Kill Creativity? is the most popular TED Talk of all time with 47.2 million views.\n",
    "## 2)Also coincidentally, it is also one of the first talks to ever be uploaded on the TED Site (the main dataset is sorted by published date).\n",
    "## 3)Robinson's talk is closely followed by Amy Cuddy's talk on Your Body Language May Shape Who You Are. There are only 2 talks that have surpassed the 40 million mark and 4 talks that have crossed the 30 million mark."
   ]
  },
  {
   "cell_type": "markdown",
   "id": "db3fe20b",
   "metadata": {},
   "source": [
    "# make a bar chart to visualise these 15 talks in terms of the number of views they garnered"
   ]
  },
  {
   "cell_type": "code",
   "execution_count": 30,
   "id": "63eb63f9",
   "metadata": {
    "scrolled": true
   },
   "outputs": [
    {
     "data": {
      "text/plain": [
       "<AxesSubplot:xlabel='abbr', ylabel='views'>"
      ]
     },
     "execution_count": 30,
     "metadata": {},
     "output_type": "execute_result"
    },
    {
     "data": {
      "image/png": "[encoded data removed]",
      "text/plain": [
       "<Figure size 1500x800 with 1 Axes>"
      ]
     },
     "metadata": {},
     "output_type": "display_data"
    }
   ],
   "source": [
    "top15_talks['abbr'] = top15_talks['main_speaker'].apply(lambda x: x[:4])\n",
    "\n",
    "plt.figure(figsize=(15,8))\n",
    "\n",
    "sns.barplot(x='abbr', y='views', data=top15_talks)"
   ]
  },
  {
   "cell_type": "code",
   "execution_count": 31,
   "id": "0a87aa0e",
   "metadata": {
    "scrolled": true
   },
   "outputs": [
    {
     "data": {
      "text/html": [
       "<div>\n",
       "<style scoped>\n",
       "    .dataframe tbody tr th:only-of-type {\n",
       "        vertical-align: middle;\n",
       "    }\n",
       "\n",
       "    .dataframe tbody tr th {\n",
       "        vertical-align: top;\n",
       "    }\n",
       "\n",
       "    .dataframe thead th {\n",
       "        text-align: right;\n",
       "    }\n",
       "</style>\n",
       "<table border=\"1\" class=\"dataframe\">\n",
       "  <thead>\n",
       "    <tr style=\"text-align: right;\">\n",
       "      <th></th>\n",
       "      <th>title</th>\n",
       "      <th>main_speaker</th>\n",
       "      <th>views</th>\n",
       "      <th>film_date</th>\n",
       "      <th>abbr</th>\n",
       "    </tr>\n",
       "  </thead>\n",
       "  <tbody>\n",
       "    <tr>\n",
       "      <th>0</th>\n",
       "      <td>Do schools kill creativity?</td>\n",
       "      <td>Ken Robinson</td>\n",
       "      <td>47227110</td>\n",
       "      <td>25-02-2006</td>\n",
       "      <td>Ken</td>\n",
       "    </tr>\n",
       "    <tr>\n",
       "      <th>1</th>\n",
       "      <td>Your body language may shape who you are</td>\n",
       "      <td>Amy Cuddy</td>\n",
       "      <td>43155405</td>\n",
       "      <td>26-06-2012</td>\n",
       "      <td>Amy</td>\n",
       "    </tr>\n",
       "    <tr>\n",
       "      <th>2</th>\n",
       "      <td>How great leaders inspire action</td>\n",
       "      <td>Simon Sinek</td>\n",
       "      <td>34309432</td>\n",
       "      <td>17-09-2009</td>\n",
       "      <td>Simo</td>\n",
       "    </tr>\n",
       "    <tr>\n",
       "      <th>3</th>\n",
       "      <td>The power of vulnerability</td>\n",
       "      <td>Brené Brown</td>\n",
       "      <td>31168150</td>\n",
       "      <td>6/6/10</td>\n",
       "      <td>Bren</td>\n",
       "    </tr>\n",
       "    <tr>\n",
       "      <th>4</th>\n",
       "      <td>10 things you didn't know about orgasm</td>\n",
       "      <td>Mary Roach</td>\n",
       "      <td>22270883</td>\n",
       "      <td>6/2/09</td>\n",
       "      <td>Mary</td>\n",
       "    </tr>\n",
       "  </tbody>\n",
       "</table>\n",
       "</div>"
      ],
      "text/plain": [
       "                                      title  main_speaker     views  \\\n",
       "0               Do schools kill creativity?  Ken Robinson  47227110   \n",
       "1  Your body language may shape who you are     Amy Cuddy  43155405   \n",
       "2          How great leaders inspire action   Simon Sinek  34309432   \n",
       "3                The power of vulnerability   Brené Brown  31168150   \n",
       "4    10 things you didn't know about orgasm    Mary Roach  22270883   \n",
       "\n",
       "    film_date  abbr  \n",
       "0  25-02-2006  Ken   \n",
       "1  26-06-2012  Amy   \n",
       "2  17-09-2009  Simo  \n",
       "3      6/6/10  Bren  \n",
       "4      6/2/09  Mary  "
      ]
     },
     "execution_count": 31,
     "metadata": {},
     "output_type": "execute_result"
    }
   ],
   "source": [
    "top15_talks.head()"
   ]
  },
  {
   "cell_type": "markdown",
   "id": "6b90c354",
   "metadata": {},
   "source": [
    "# descriptive statics of views"
   ]
  },
  {
   "cell_type": "code",
   "execution_count": 32,
   "id": "fd3a4b30",
   "metadata": {},
   "outputs": [
    {
     "data": {
      "text/plain": [
       "count    2.550000e+03\n",
       "mean     1.698297e+06\n",
       "std      2.498479e+06\n",
       "min      5.044300e+04\n",
       "25%      7.557928e+05\n",
       "50%      1.124524e+06\n",
       "75%      1.700760e+06\n",
       "max      4.722711e+07\n",
       "Name: views, dtype: float64"
      ]
     },
     "execution_count": 32,
     "metadata": {},
     "output_type": "execute_result"
    }
   ],
   "source": [
    "df['views'].describe()"
   ]
  },
  {
   "cell_type": "markdown",
   "id": "66b3f30b",
   "metadata": {},
   "source": [
    "# observations\n",
    "## The average number of views on TED Talks in 1.6 million\n",
    "## the median number of views is 1.12 million\n",
    "## This suggests a very high average level of popularity of TED Talks\n",
    "## We also notice that the majority of talks have views less than 4 million."
   ]
  },
  {
   "cell_type": "markdown",
   "id": "e0da1e5b",
   "metadata": {},
   "source": [
    "# descriptive statics of comments"
   ]
  },
  {
   "cell_type": "code",
   "execution_count": 33,
   "id": "6bce3f54",
   "metadata": {},
   "outputs": [
    {
     "data": {
      "text/plain": [
       "count    2550.000000\n",
       "mean      191.562353\n",
       "std       282.315223\n",
       "min         2.000000\n",
       "25%        63.000000\n",
       "50%       118.000000\n",
       "75%       221.750000\n",
       "max      6404.000000\n",
       "Name: comments, dtype: float64"
      ]
     },
     "execution_count": 33,
     "metadata": {},
     "output_type": "execute_result"
    }
   ],
   "source": [
    "df['comments'].describe()"
   ]
  },
  {
   "cell_type": "markdown",
   "id": "277f4e07",
   "metadata": {},
   "source": [
    "# observations\n",
    "### On average, there are 191.5 comments on every TED Talk\n",
    "### we can conclude that the TED Online Community is highly involved in discussions revolving TED Talks.\n",
    "### There is a huge standard deviation associated with the comments.\n",
    "### In fact, it is even larger than the mean suggesting that the measures may be sensitive to outliers\n",
    "### The minimum number of comments on a talk is 2 and the maximum is 6404. The range is 6402.\n",
    "### The minimum number, though, may be as a result of the talk being posted extremely recently."
   ]
  },
  {
   "cell_type": "markdown",
   "id": "d5a04127",
   "metadata": {},
   "source": [
    "# check the number of views and comments in 10 most commented talks"
   ]
  },
  {
   "cell_type": "code",
   "execution_count": 36,
   "id": "620112da",
   "metadata": {},
   "outputs": [
    {
     "data": {
      "text/html": [
       "<div>\n",
       "<style scoped>\n",
       "    .dataframe tbody tr th:only-of-type {\n",
       "        vertical-align: middle;\n",
       "    }\n",
       "\n",
       "    .dataframe tbody tr th {\n",
       "        vertical-align: top;\n",
       "    }\n",
       "\n",
       "    .dataframe thead th {\n",
       "        text-align: right;\n",
       "    }\n",
       "</style>\n",
       "<table border=\"1\" class=\"dataframe\">\n",
       "  <thead>\n",
       "    <tr style=\"text-align: right;\">\n",
       "      <th></th>\n",
       "      <th>title</th>\n",
       "      <th>main_speaker</th>\n",
       "      <th>views</th>\n",
       "      <th>comments</th>\n",
       "    </tr>\n",
       "  </thead>\n",
       "  <tbody>\n",
       "    <tr>\n",
       "      <th>139</th>\n",
       "      <td>Militant atheism</td>\n",
       "      <td>Richard Dawkins</td>\n",
       "      <td>4374792</td>\n",
       "      <td>6404</td>\n",
       "    </tr>\n",
       "    <tr>\n",
       "      <th>0</th>\n",
       "      <td>Do schools kill creativity?</td>\n",
       "      <td>Ken Robinson</td>\n",
       "      <td>47227110</td>\n",
       "      <td>4553</td>\n",
       "    </tr>\n",
       "    <tr>\n",
       "      <th>210</th>\n",
       "      <td>Science can answer moral questions</td>\n",
       "      <td>Sam Harris</td>\n",
       "      <td>3433437</td>\n",
       "      <td>3356</td>\n",
       "    </tr>\n",
       "    <tr>\n",
       "      <th>6</th>\n",
       "      <td>My stroke of insight</td>\n",
       "      <td>Jill Bolte Taylor</td>\n",
       "      <td>21190883</td>\n",
       "      <td>2877</td>\n",
       "    </tr>\n",
       "    <tr>\n",
       "      <th>433</th>\n",
       "      <td>How do you explain consciousness?</td>\n",
       "      <td>David Chalmers</td>\n",
       "      <td>2162764</td>\n",
       "      <td>2673</td>\n",
       "    </tr>\n",
       "    <tr>\n",
       "      <th>566</th>\n",
       "      <td>Taking imagination seriously</td>\n",
       "      <td>Janet Echelman</td>\n",
       "      <td>1832930</td>\n",
       "      <td>2492</td>\n",
       "    </tr>\n",
       "    <tr>\n",
       "      <th>559</th>\n",
       "      <td>On reading the Koran</td>\n",
       "      <td>Lesley Hazleton</td>\n",
       "      <td>1847256</td>\n",
       "      <td>2374</td>\n",
       "    </tr>\n",
       "    <tr>\n",
       "      <th>1</th>\n",
       "      <td>Your body language may shape who you are</td>\n",
       "      <td>Amy Cuddy</td>\n",
       "      <td>43155405</td>\n",
       "      <td>2290</td>\n",
       "    </tr>\n",
       "    <tr>\n",
       "      <th>562</th>\n",
       "      <td>The danger of science denial</td>\n",
       "      <td>Michael Specter</td>\n",
       "      <td>1838628</td>\n",
       "      <td>2272</td>\n",
       "    </tr>\n",
       "    <tr>\n",
       "      <th>2</th>\n",
       "      <td>How great leaders inspire action</td>\n",
       "      <td>Simon Sinek</td>\n",
       "      <td>34309432</td>\n",
       "      <td>1930</td>\n",
       "    </tr>\n",
       "  </tbody>\n",
       "</table>\n",
       "</div>"
      ],
      "text/plain": [
       "                                        title       main_speaker     views  \\\n",
       "139                          Militant atheism    Richard Dawkins   4374792   \n",
       "0                 Do schools kill creativity?       Ken Robinson  47227110   \n",
       "210        Science can answer moral questions         Sam Harris   3433437   \n",
       "6                        My stroke of insight  Jill Bolte Taylor  21190883   \n",
       "433         How do you explain consciousness?     David Chalmers   2162764   \n",
       "566              Taking imagination seriously     Janet Echelman   1832930   \n",
       "559                      On reading the Koran    Lesley Hazleton   1847256   \n",
       "1    Your body language may shape who you are          Amy Cuddy  43155405   \n",
       "562              The danger of science denial    Michael Specter   1838628   \n",
       "2            How great leaders inspire action        Simon Sinek  34309432   \n",
       "\n",
       "     comments  \n",
       "139      6404  \n",
       "0        4553  \n",
       "210      3356  \n",
       "6        2877  \n",
       "433      2673  \n",
       "566      2492  \n",
       "559      2374  \n",
       "1        2290  \n",
       "562      2272  \n",
       "2        1930  "
      ]
     },
     "execution_count": 36,
     "metadata": {},
     "output_type": "execute_result"
    }
   ],
   "source": [
    "df[['title', 'main_speaker','views', 'comments']].sort_values('comments', ascending=False).head(10)"
   ]
  },
  {
   "cell_type": "markdown",
   "id": "e54917d7",
   "metadata": {},
   "source": [
    "# observations\n",
    "## As can be seen above, Richard Dawkins' talk on Militant Atheism' generated the greatest amount of discussion and opinions despite having significantly lesser views than Ken Robinson's talk, which is second in the list. This raises some interesting questions which is what we want to explore further."
   ]
  },
  {
   "cell_type": "markdown",
   "id": "0b3bda4c",
   "metadata": {},
   "source": [
    "# who are the top speaker?"
   ]
  },
  {
   "cell_type": "code",
   "execution_count": 41,
   "id": "a32b820b",
   "metadata": {},
   "outputs": [],
   "source": [
    "top_speakers = df.main_speaker.value_counts().head(10)"
   ]
  },
  {
   "cell_type": "code",
   "execution_count": 44,
   "id": "18b4982e",
   "metadata": {
    "scrolled": true
   },
   "outputs": [
    {
     "data": {
      "text/plain": [
       "([0, 1, 2, 3, 4, 5, 6, 7, 8, 9],\n",
       " [Text(0, 0, ''),\n",
       "  Text(0, 0, ''),\n",
       "  Text(0, 0, ''),\n",
       "  Text(0, 0, ''),\n",
       "  Text(0, 0, ''),\n",
       "  Text(0, 0, ''),\n",
       "  Text(0, 0, ''),\n",
       "  Text(0, 0, ''),\n",
       "  Text(0, 0, ''),\n",
       "  Text(0, 0, '')])"
      ]
     },
     "execution_count": 44,
     "metadata": {},
     "output_type": "execute_result"
    },
    {
     "data": {
      "image/png": "[encoded data removed]",
      "text/plain": [
       "<Figure size 1500x600 with 1 Axes>"
      ]
     },
     "metadata": {},
     "output_type": "display_data"
    }
   ],
   "source": [
    "plt.figure(figsize=(15,6))\n",
    "\n",
    "plt.bar(top_speakers.index,height=top_speakers)\n",
    "\n",
    "plt.xticks(rotation=50)"
   ]
  },
  {
   "cell_type": "markdown",
   "id": "0103058b",
   "metadata": {},
   "source": [
    "# observations\n",
    "## Hans Rosling, the Swiss Health Professor is clearly the most popular TED Speaker, with more than 9 appearances on the TED Forum. Juan Enriquez comes a close second with 7 appearances. Rives and Marco Tempest have graced the TED platform 6 times."
   ]
  },
  {
   "cell_type": "markdown",
   "id": "0e26a40e",
   "metadata": {},
   "source": [
    "# Which occupation should you choose if you want to become a TED Speaker? Let us have a look what kind of people TED is most interested in inviting to its events."
   ]
  },
  {
   "cell_type": "code",
   "execution_count": 56,
   "id": "c0f8acee",
   "metadata": {},
   "outputs": [
    {
     "data": {
      "image/png": "[encoded data removed]",
      "text/plain": [
       "<Figure size 1500x1000 with 1 Axes>"
      ]
     },
     "metadata": {},
     "output_type": "display_data"
    }
   ],
   "source": [
    "plt.figure(figsize=(15,10))\n",
    "\n",
    "explode = (0.1, 0, 0.0, 0,0)\n",
    "\n",
    "df['speaker_occupation'].value_counts()[:5].plot(kind='pie',explode=explode, autopct='%1.0f%%', labeldistance=1.05)\n",
    "\n",
    "plt.tight_layout()"
   ]
  },
  {
   "cell_type": "markdown",
   "id": "b8613f86",
   "metadata": {},
   "source": [
    "# Observations\n",
    "## Writers are the most popular with more than 45 speakers identifying themselves as the aforementioned.\n",
    "## Artists and Designers come a distant second with around 35 speakers in each category.\n",
    "## This result must be taken with a pinch of salt as a considerable number of speakers identify themselves with multiple professions (for example, writer/entrepreneur)."
   ]
  },
  {
   "cell_type": "markdown",
   "id": "4445f6ab",
   "metadata": {},
   "source": [
    "# find the details of the longest and shortest Ted talks in terms of duration."
   ]
  },
  {
   "cell_type": "code",
   "execution_count": 61,
   "id": "7c3145ca",
   "metadata": {},
   "outputs": [
    {
     "data": {
      "text/plain": [
       "count    2550.000000\n",
       "mean       13.775170\n",
       "std         6.233486\n",
       "min         2.250000\n",
       "25%         9.616667\n",
       "50%        14.133333\n",
       "75%        17.445833\n",
       "max        87.600000\n",
       "Name: duration, dtype: float64"
      ]
     },
     "execution_count": 61,
     "metadata": {},
     "output_type": "execute_result"
    }
   ],
   "source": [
    "df['duration'].describe()"
   ]
  },
  {
   "cell_type": "markdown",
   "id": "a93e683a",
   "metadata": {},
   "source": [
    "# observations:\n",
    "### TED Talks, on average are 13.7 minutes long.\n",
    "### find this statistic surprising because TED Talks are often synonymous with 18 minutes and \n",
    "### the average is a good 3 minutes shorter than that.\n",
    "### The shortest TED Talk on record is 2.25 minutes long\n",
    "### the longest talk is 87.6 minutes long"
   ]
  },
  {
   "cell_type": "markdown",
   "id": "6bba546d",
   "metadata": {},
   "source": [
    "# Look at the shortest Talk"
   ]
  },
  {
   "cell_type": "code",
   "execution_count": 64,
   "id": "c0bc83c3",
   "metadata": {},
   "outputs": [
    {
     "data": {
      "text/html": [
       "<div>\n",
       "<style scoped>\n",
       "    .dataframe tbody tr th:only-of-type {\n",
       "        vertical-align: middle;\n",
       "    }\n",
       "\n",
       "    .dataframe tbody tr th {\n",
       "        vertical-align: top;\n",
       "    }\n",
       "\n",
       "    .dataframe thead th {\n",
       "        text-align: right;\n",
       "    }\n",
       "</style>\n",
       "<table border=\"1\" class=\"dataframe\">\n",
       "  <thead>\n",
       "    <tr style=\"text-align: right;\">\n",
       "      <th></th>\n",
       "      <th>name</th>\n",
       "      <th>title</th>\n",
       "      <th>description</th>\n",
       "      <th>main_speaker</th>\n",
       "      <th>speaker_occupation</th>\n",
       "      <th>num_speaker</th>\n",
       "      <th>duration</th>\n",
       "      <th>event</th>\n",
       "      <th>film_date</th>\n",
       "      <th>published_date</th>\n",
       "      <th>comments</th>\n",
       "      <th>tags</th>\n",
       "      <th>languages</th>\n",
       "      <th>ratings</th>\n",
       "      <th>related_talks</th>\n",
       "      <th>url</th>\n",
       "      <th>views</th>\n",
       "    </tr>\n",
       "  </thead>\n",
       "  <tbody>\n",
       "    <tr>\n",
       "      <th>1861</th>\n",
       "      <td>Murray Gell-Mann: The ancestor of language</td>\n",
       "      <td>The ancestor of language</td>\n",
       "      <td>After speaking at TED2007 on elegance in physi...</td>\n",
       "      <td>Murray Gell-Mann</td>\n",
       "      <td>Physicist</td>\n",
       "      <td>1</td>\n",
       "      <td>2.25</td>\n",
       "      <td>TED2007</td>\n",
       "      <td>3/3/07</td>\n",
       "      <td>11/6/08</td>\n",
       "      <td>76</td>\n",
       "      <td>['culture', 'global issues', 'history', 'langu...</td>\n",
       "      <td>61</td>\n",
       "      <td>[{'id': 22, 'name': 'Fascinating', 'count': 78...</td>\n",
       "      <td>[{'id': 161, 'hero': 'https://pe.tedcdn.com/im...</td>\n",
       "      <td>https://www.ted.com/talks/murray_gell_mann_on_...</td>\n",
       "      <td>785293</td>\n",
       "    </tr>\n",
       "  </tbody>\n",
       "</table>\n",
       "</div>"
      ],
      "text/plain": [
       "                                            name                     title  \\\n",
       "1861  Murray Gell-Mann: The ancestor of language  The ancestor of language   \n",
       "\n",
       "                                            description      main_speaker  \\\n",
       "1861  After speaking at TED2007 on elegance in physi...  Murray Gell-Mann   \n",
       "\n",
       "     speaker_occupation  num_speaker  duration    event film_date  \\\n",
       "1861          Physicist            1      2.25  TED2007    3/3/07   \n",
       "\n",
       "     published_date  comments  \\\n",
       "1861        11/6/08        76   \n",
       "\n",
       "                                                   tags  languages  \\\n",
       "1861  ['culture', 'global issues', 'history', 'langu...         61   \n",
       "\n",
       "                                                ratings  \\\n",
       "1861  [{'id': 22, 'name': 'Fascinating', 'count': 78...   \n",
       "\n",
       "                                          related_talks  \\\n",
       "1861  [{'id': 161, 'hero': 'https://pe.tedcdn.com/im...   \n",
       "\n",
       "                                                    url   views  \n",
       "1861  https://www.ted.com/talks/murray_gell_mann_on_...  785293  "
      ]
     },
     "execution_count": 64,
     "metadata": {},
     "output_type": "execute_result"
    }
   ],
   "source": [
    "df[df['duration']==2.25]"
   ]
  },
  {
   "cell_type": "markdown",
   "id": "f2920f46",
   "metadata": {},
   "source": [
    "# Look at the Longest Talk"
   ]
  },
  {
   "cell_type": "code",
   "execution_count": 66,
   "id": "9d5fc95e",
   "metadata": {},
   "outputs": [
    {
     "data": {
      "text/html": [
       "<div>\n",
       "<style scoped>\n",
       "    .dataframe tbody tr th:only-of-type {\n",
       "        vertical-align: middle;\n",
       "    }\n",
       "\n",
       "    .dataframe tbody tr th {\n",
       "        vertical-align: top;\n",
       "    }\n",
       "\n",
       "    .dataframe thead th {\n",
       "        text-align: right;\n",
       "    }\n",
       "</style>\n",
       "<table border=\"1\" class=\"dataframe\">\n",
       "  <thead>\n",
       "    <tr style=\"text-align: right;\">\n",
       "      <th></th>\n",
       "      <th>name</th>\n",
       "      <th>title</th>\n",
       "      <th>description</th>\n",
       "      <th>main_speaker</th>\n",
       "      <th>speaker_occupation</th>\n",
       "      <th>num_speaker</th>\n",
       "      <th>duration</th>\n",
       "      <th>event</th>\n",
       "      <th>film_date</th>\n",
       "      <th>published_date</th>\n",
       "      <th>comments</th>\n",
       "      <th>tags</th>\n",
       "      <th>languages</th>\n",
       "      <th>ratings</th>\n",
       "      <th>related_talks</th>\n",
       "      <th>url</th>\n",
       "      <th>views</th>\n",
       "    </tr>\n",
       "  </thead>\n",
       "  <tbody>\n",
       "    <tr>\n",
       "      <th>2305</th>\n",
       "      <td>Douglas Adams: Parrots, the universe and every...</td>\n",
       "      <td>Parrots, the universe and everything</td>\n",
       "      <td>Blind river dolphins, reclusive lemurs, a parr...</td>\n",
       "      <td>Douglas Adams</td>\n",
       "      <td>Author, satirist</td>\n",
       "      <td>1</td>\n",
       "      <td>87.6</td>\n",
       "      <td>University of California</td>\n",
       "      <td>16-05-2001</td>\n",
       "      <td>16-03-2010</td>\n",
       "      <td>101</td>\n",
       "      <td>['biodiversity', 'biology', 'comedy', 'humor',...</td>\n",
       "      <td>0</td>\n",
       "      <td>[{'id': 22, 'name': 'Fascinating', 'count': 29...</td>\n",
       "      <td>[{'id': 635, 'hero': 'https://pe.tedcdn.com/im...</td>\n",
       "      <td>https://www.ted.com/talks/douglas_adams_parrot...</td>\n",
       "      <td>473220</td>\n",
       "    </tr>\n",
       "  </tbody>\n",
       "</table>\n",
       "</div>"
      ],
      "text/plain": [
       "                                                   name  \\\n",
       "2305  Douglas Adams: Parrots, the universe and every...   \n",
       "\n",
       "                                     title  \\\n",
       "2305  Parrots, the universe and everything   \n",
       "\n",
       "                                            description   main_speaker  \\\n",
       "2305  Blind river dolphins, reclusive lemurs, a parr...  Douglas Adams   \n",
       "\n",
       "     speaker_occupation  num_speaker  duration                     event  \\\n",
       "2305   Author, satirist            1      87.6  University of California   \n",
       "\n",
       "       film_date published_date  comments  \\\n",
       "2305  16-05-2001     16-03-2010       101   \n",
       "\n",
       "                                                   tags  languages  \\\n",
       "2305  ['biodiversity', 'biology', 'comedy', 'humor',...          0   \n",
       "\n",
       "                                                ratings  \\\n",
       "2305  [{'id': 22, 'name': 'Fascinating', 'count': 29...   \n",
       "\n",
       "                                          related_talks  \\\n",
       "2305  [{'id': 635, 'hero': 'https://pe.tedcdn.com/im...   \n",
       "\n",
       "                                                    url   views  \n",
       "2305  https://www.ted.com/talks/douglas_adams_parrot...  473220  "
      ]
     },
     "execution_count": 66,
     "metadata": {},
     "output_type": "execute_result"
    }
   ],
   "source": [
    "df[df['duration']==87.6]"
   ]
  }
 ],
 "metadata": {
  "kernelspec": {
   "display_name": "Python 3 (ipykernel)",
   "language": "python",
   "name": "python3"
  },
  "language_info": {
   "codemirror_mode": {
    "name": "ipython",
    "version": 3
   },
   "file_extension": ".py",
   "mimetype": "text/x-python",
   "name": "python",
   "nbconvert_exporter": "python",
   "pygments_lexer": "ipython3",
   "version": "3.7.3"
  }
 },
 "nbformat": 4,
 "nbformat_minor": 5
}
